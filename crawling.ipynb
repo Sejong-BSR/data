{
 "cells": [
  {
   "cell_type": "code",
   "execution_count": 48,
   "outputs": [],
   "source": [
    "from urllib.request import urlopen\n",
    "import urllib.request\n",
    "import urllib\n",
    "import os\n",
    "from selenium import webdriver\n",
    "from selenium.webdriver.common.by import By\n",
    "from selenium.webdriver.common.keys import Keys\n",
    "import time\n",
    "import json\n",
    "from urllib.request import urlopen\n",
    "from PIL import Image"
   ],
   "metadata": {
    "collapsed": false,
    "pycharm": {
     "name": "#%%\n"
    }
   }
  },
  {
   "cell_type": "code",
   "execution_count": 49,
   "outputs": [],
   "source": [
    "def Crawling_Naver():\n",
    "    url_temp = 'https://map.naver.com/v5/api/search?caller=pcweb&query=%EC%9D%8C%EC%8B%9D%EC%A0%90&type=all&searchCoord={};{}&page={}&displayCount={}&isPlaceRecommendationReplace=true&lang=ko'\n",
    "    latitude = 126.93632421051524  # 현재 위도\n",
    "    longitude = 37.55433832843096  # 현재 경도\n",
    "    displayCount = 2  # 현재 위치로 부터 탐색할 가게 개수\n",
    "    url = url_temp.format(latitude, longitude, 1, displayCount)\n",
    "    response = urlopen(url)\n",
    "    json_data = json.load(response)['result']['place']['list']\n",
    "    result = []\n",
    "    for place in json_data:\n",
    "        result.append([place['id'], place['name'], place['category'], make_url(place['id'])])\n",
    "\n",
    "    return result"
   ],
   "metadata": {
    "collapsed": false,
    "pycharm": {
     "name": "#%%\n"
    }
   }
  },
  {
   "cell_type": "code",
   "execution_count": 50,
   "outputs": [],
   "source": [
    "def make_url(path):\n",
    "    url = \"https://pcmap.place.naver.com/restaurant/\" + path + \"/photo\"\n",
    "    return url\n",
    "\n",
    "def scroll_down(driver):\n",
    "    num_of_scroll = 2 # 숫자 커질수록 한 가게에서 뽑아오는 이미지 양 늘어남 (5 => 100장정도)\n",
    "    for i in range(num_of_scroll):\n",
    "        driver.find_element(By.CSS_SELECTOR,'body').send_keys(Keys.PAGE_DOWN)\n",
    "        time.sleep(1)\n",
    "\n",
    "def save_img(driver,name):\n",
    "    img_url = []\n",
    "    imgs = driver.find_elements(By.CSS_SELECTOR, 'a.place_thumb>img')\n",
    "    for image in imgs :\n",
    "        url = image.get_attribute('src')\n",
    "        img_url.append(url)\n",
    "\n",
    "    img_folder = '../img/' + name\n",
    "    if not os.path.isdir(img_folder) :\n",
    "        os.mkdir(img_folder)\n",
    "\n",
    "    map_of_url_index = {}\n",
    "\n",
    "    for index, link in enumerate(img_url) :\n",
    "        urllib.request.urlretrieve(link, f'{img_folder}/{name}_{index}.jpg')\n",
    "        img = Image.open(f'{img_folder}/{name}_{index}.jpg')\n",
    "        img_resize = img.resize((256, 256))\n",
    "        img_resize.save(f'{img_folder}/{name}_{index}.jpg')\n",
    "        map_of_url_index[f'{index}'] = link\n",
    "\n",
    "    with open(f'{img_folder}/{name}.txt','w',encoding='UTF-8') as f:\n",
    "        for index,url in map_of_url_index.items():\n",
    "            f.write(f'{index} : {url}\\n')\n",
    "\n",
    "\n",
    "def collect_data(path,name):\n",
    "    driver = webdriver.Chrome('C:/Users/jaehoon/chromedriver')\n",
    "    driver.get(make_url(path))\n",
    "    scroll_down(driver)\n",
    "    save_img(driver,name)"
   ],
   "metadata": {
    "collapsed": false,
    "pycharm": {
     "name": "#%%\n"
    }
   }
  },
  {
   "cell_type": "code",
   "execution_count": 51,
   "outputs": [
    {
     "name": "stderr",
     "output_type": "stream",
     "text": [
      "C:\\Users\\jaehoon\\AppData\\Local\\Temp\\ipykernel_11092\\3801252424.py:37: DeprecationWarning: executable_path has been deprecated, please pass in a Service object\n",
      "  driver = webdriver.Chrome('C:/Users/jaehoon/chromedriver')\n"
     ]
    },
    {
     "ename": "NoSuchWindowException",
     "evalue": "Message: no such window: target window already closed\nfrom unknown error: web view not found\n  (Session info: chrome=106.0.5249.119)\nStacktrace:\nBacktrace:\n\tOrdinal0 [0x003F1ED3+2236115]\n\tOrdinal0 [0x003892F1+1807089]\n\tOrdinal0 [0x002966FD+812797]\n\tOrdinal0 [0x0027DFFA+712698]\n\tOrdinal0 [0x002E506B+1134699]\n\tOrdinal0 [0x002F514A+1200458]\n\tOrdinal0 [0x002E18A6+1120422]\n\tOrdinal0 [0x002BA73D+960317]\n\tOrdinal0 [0x002BB71F+964383]\n\tGetHandleVerifier [0x0069E7E2+2743074]\n\tGetHandleVerifier [0x006908D4+2685972]\n\tGetHandleVerifier [0x00482BAA+532202]\n\tGetHandleVerifier [0x00481990+527568]\n\tOrdinal0 [0x0039080C+1837068]\n\tOrdinal0 [0x00394CD8+1854680]\n\tOrdinal0 [0x00394DC5+1854917]\n\tOrdinal0 [0x0039ED64+1895780]\n\tBaseThreadInitThunk [0x75C9FA29+25]\n\tRtlGetAppContainerNamedObjectPath [0x76F07BBE+286]\n\tRtlGetAppContainerNamedObjectPath [0x76F07B8E+238]\n",
     "output_type": "error",
     "traceback": [
      "\u001B[1;31m---------------------------------------------------------------------------\u001B[0m",
      "\u001B[1;31mNoSuchWindowException\u001B[0m                     Traceback (most recent call last)",
      "Cell \u001B[1;32mIn [51], line 4\u001B[0m\n\u001B[0;32m      2\u001B[0m info \u001B[38;5;241m=\u001B[39m Crawling_Naver()\n\u001B[0;32m      3\u001B[0m \u001B[38;5;28;01mfor\u001B[39;00m i \u001B[38;5;129;01min\u001B[39;00m \u001B[38;5;28mrange\u001B[39m(\u001B[38;5;28mlen\u001B[39m(info)):\n\u001B[1;32m----> 4\u001B[0m     \u001B[43mcollect_data\u001B[49m\u001B[43m(\u001B[49m\u001B[43minfo\u001B[49m\u001B[43m[\u001B[49m\u001B[43mi\u001B[49m\u001B[43m]\u001B[49m\u001B[43m[\u001B[49m\u001B[38;5;241;43m0\u001B[39;49m\u001B[43m]\u001B[49m\u001B[43m,\u001B[49m\u001B[43minfo\u001B[49m\u001B[43m[\u001B[49m\u001B[43mi\u001B[49m\u001B[43m]\u001B[49m\u001B[43m[\u001B[49m\u001B[38;5;241;43m1\u001B[39;49m\u001B[43m]\u001B[49m\u001B[43m)\u001B[49m\n",
      "Cell \u001B[1;32mIn [50], line 39\u001B[0m, in \u001B[0;36mcollect_data\u001B[1;34m(path, name)\u001B[0m\n\u001B[0;32m     37\u001B[0m driver \u001B[38;5;241m=\u001B[39m webdriver\u001B[38;5;241m.\u001B[39mChrome(\u001B[38;5;124m'\u001B[39m\u001B[38;5;124mC:/Users/jaehoon/chromedriver\u001B[39m\u001B[38;5;124m'\u001B[39m)\n\u001B[0;32m     38\u001B[0m driver\u001B[38;5;241m.\u001B[39mget(make_url(path))\n\u001B[1;32m---> 39\u001B[0m \u001B[43mscroll_down\u001B[49m\u001B[43m(\u001B[49m\u001B[43mdriver\u001B[49m\u001B[43m)\u001B[49m\n\u001B[0;32m     40\u001B[0m save_img(driver,name)\n",
      "Cell \u001B[1;32mIn [50], line 8\u001B[0m, in \u001B[0;36mscroll_down\u001B[1;34m(driver)\u001B[0m\n\u001B[0;32m      6\u001B[0m num_of_scroll \u001B[38;5;241m=\u001B[39m \u001B[38;5;241m2\u001B[39m \u001B[38;5;66;03m# 스크롤 횟수 (커질수록 가져오는 이미지 양 많아짐)\u001B[39;00m\n\u001B[0;32m      7\u001B[0m \u001B[38;5;28;01mfor\u001B[39;00m i \u001B[38;5;129;01min\u001B[39;00m \u001B[38;5;28mrange\u001B[39m(num_of_scroll):\n\u001B[1;32m----> 8\u001B[0m     \u001B[43mdriver\u001B[49m\u001B[38;5;241;43m.\u001B[39;49m\u001B[43mfind_element\u001B[49m\u001B[43m(\u001B[49m\u001B[43mBy\u001B[49m\u001B[38;5;241;43m.\u001B[39;49m\u001B[43mCSS_SELECTOR\u001B[49m\u001B[43m,\u001B[49m\u001B[38;5;124;43m'\u001B[39;49m\u001B[38;5;124;43mbody\u001B[39;49m\u001B[38;5;124;43m'\u001B[39;49m\u001B[43m)\u001B[49m\u001B[38;5;241m.\u001B[39msend_keys(Keys\u001B[38;5;241m.\u001B[39mPAGE_DOWN)\n\u001B[0;32m      9\u001B[0m     time\u001B[38;5;241m.\u001B[39msleep(\u001B[38;5;241m1\u001B[39m)\n",
      "File \u001B[1;32m~\\PycharmProjects\\Cloud_project\\venv\\lib\\site-packages\\selenium\\webdriver\\remote\\webdriver.py:856\u001B[0m, in \u001B[0;36mWebDriver.find_element\u001B[1;34m(self, by, value)\u001B[0m\n\u001B[0;32m    853\u001B[0m     by \u001B[38;5;241m=\u001B[39m By\u001B[38;5;241m.\u001B[39mCSS_SELECTOR\n\u001B[0;32m    854\u001B[0m     value \u001B[38;5;241m=\u001B[39m \u001B[38;5;124m'\u001B[39m\u001B[38;5;124m[name=\u001B[39m\u001B[38;5;124m\"\u001B[39m\u001B[38;5;132;01m%s\u001B[39;00m\u001B[38;5;124m\"\u001B[39m\u001B[38;5;124m]\u001B[39m\u001B[38;5;124m'\u001B[39m \u001B[38;5;241m%\u001B[39m value\n\u001B[1;32m--> 856\u001B[0m \u001B[38;5;28;01mreturn\u001B[39;00m \u001B[38;5;28;43mself\u001B[39;49m\u001B[38;5;241;43m.\u001B[39;49m\u001B[43mexecute\u001B[49m\u001B[43m(\u001B[49m\u001B[43mCommand\u001B[49m\u001B[38;5;241;43m.\u001B[39;49m\u001B[43mFIND_ELEMENT\u001B[49m\u001B[43m,\u001B[49m\u001B[43m \u001B[49m\u001B[43m{\u001B[49m\n\u001B[0;32m    857\u001B[0m \u001B[43m    \u001B[49m\u001B[38;5;124;43m'\u001B[39;49m\u001B[38;5;124;43musing\u001B[39;49m\u001B[38;5;124;43m'\u001B[39;49m\u001B[43m:\u001B[49m\u001B[43m \u001B[49m\u001B[43mby\u001B[49m\u001B[43m,\u001B[49m\n\u001B[0;32m    858\u001B[0m \u001B[43m    \u001B[49m\u001B[38;5;124;43m'\u001B[39;49m\u001B[38;5;124;43mvalue\u001B[39;49m\u001B[38;5;124;43m'\u001B[39;49m\u001B[43m:\u001B[49m\u001B[43m \u001B[49m\u001B[43mvalue\u001B[49m\u001B[43m}\u001B[49m\u001B[43m)\u001B[49m[\u001B[38;5;124m'\u001B[39m\u001B[38;5;124mvalue\u001B[39m\u001B[38;5;124m'\u001B[39m]\n",
      "File \u001B[1;32m~\\PycharmProjects\\Cloud_project\\venv\\lib\\site-packages\\selenium\\webdriver\\remote\\webdriver.py:429\u001B[0m, in \u001B[0;36mWebDriver.execute\u001B[1;34m(self, driver_command, params)\u001B[0m\n\u001B[0;32m    427\u001B[0m response \u001B[38;5;241m=\u001B[39m \u001B[38;5;28mself\u001B[39m\u001B[38;5;241m.\u001B[39mcommand_executor\u001B[38;5;241m.\u001B[39mexecute(driver_command, params)\n\u001B[0;32m    428\u001B[0m \u001B[38;5;28;01mif\u001B[39;00m response:\n\u001B[1;32m--> 429\u001B[0m     \u001B[38;5;28;43mself\u001B[39;49m\u001B[38;5;241;43m.\u001B[39;49m\u001B[43merror_handler\u001B[49m\u001B[38;5;241;43m.\u001B[39;49m\u001B[43mcheck_response\u001B[49m\u001B[43m(\u001B[49m\u001B[43mresponse\u001B[49m\u001B[43m)\u001B[49m\n\u001B[0;32m    430\u001B[0m     response[\u001B[38;5;124m'\u001B[39m\u001B[38;5;124mvalue\u001B[39m\u001B[38;5;124m'\u001B[39m] \u001B[38;5;241m=\u001B[39m \u001B[38;5;28mself\u001B[39m\u001B[38;5;241m.\u001B[39m_unwrap_value(\n\u001B[0;32m    431\u001B[0m         response\u001B[38;5;241m.\u001B[39mget(\u001B[38;5;124m'\u001B[39m\u001B[38;5;124mvalue\u001B[39m\u001B[38;5;124m'\u001B[39m, \u001B[38;5;28;01mNone\u001B[39;00m))\n\u001B[0;32m    432\u001B[0m     \u001B[38;5;28;01mreturn\u001B[39;00m response\n",
      "File \u001B[1;32m~\\PycharmProjects\\Cloud_project\\venv\\lib\\site-packages\\selenium\\webdriver\\remote\\errorhandler.py:243\u001B[0m, in \u001B[0;36mErrorHandler.check_response\u001B[1;34m(self, response)\u001B[0m\n\u001B[0;32m    241\u001B[0m         alert_text \u001B[38;5;241m=\u001B[39m value[\u001B[38;5;124m'\u001B[39m\u001B[38;5;124malert\u001B[39m\u001B[38;5;124m'\u001B[39m]\u001B[38;5;241m.\u001B[39mget(\u001B[38;5;124m'\u001B[39m\u001B[38;5;124mtext\u001B[39m\u001B[38;5;124m'\u001B[39m)\n\u001B[0;32m    242\u001B[0m     \u001B[38;5;28;01mraise\u001B[39;00m exception_class(message, screen, stacktrace, alert_text)  \u001B[38;5;66;03m# type: ignore[call-arg]  # mypy is not smart enough here\u001B[39;00m\n\u001B[1;32m--> 243\u001B[0m \u001B[38;5;28;01mraise\u001B[39;00m exception_class(message, screen, stacktrace)\n",
      "\u001B[1;31mNoSuchWindowException\u001B[0m: Message: no such window: target window already closed\nfrom unknown error: web view not found\n  (Session info: chrome=106.0.5249.119)\nStacktrace:\nBacktrace:\n\tOrdinal0 [0x003F1ED3+2236115]\n\tOrdinal0 [0x003892F1+1807089]\n\tOrdinal0 [0x002966FD+812797]\n\tOrdinal0 [0x0027DFFA+712698]\n\tOrdinal0 [0x002E506B+1134699]\n\tOrdinal0 [0x002F514A+1200458]\n\tOrdinal0 [0x002E18A6+1120422]\n\tOrdinal0 [0x002BA73D+960317]\n\tOrdinal0 [0x002BB71F+964383]\n\tGetHandleVerifier [0x0069E7E2+2743074]\n\tGetHandleVerifier [0x006908D4+2685972]\n\tGetHandleVerifier [0x00482BAA+532202]\n\tGetHandleVerifier [0x00481990+527568]\n\tOrdinal0 [0x0039080C+1837068]\n\tOrdinal0 [0x00394CD8+1854680]\n\tOrdinal0 [0x00394DC5+1854917]\n\tOrdinal0 [0x0039ED64+1895780]\n\tBaseThreadInitThunk [0x75C9FA29+25]\n\tRtlGetAppContainerNamedObjectPath [0x76F07BBE+286]\n\tRtlGetAppContainerNamedObjectPath [0x76F07B8E+238]\n"
     ]
    }
   ],
   "source": [
    "if __name__ == \"__main__\":\n",
    "    info = Crawling_Naver()\n",
    "    for i in range(len(info)):\n",
    "        collect_data(info[i][0],info[i][1])"
   ],
   "metadata": {
    "collapsed": false,
    "pycharm": {
     "name": "#%%\n"
    }
   }
  },
  {
   "cell_type": "code",
   "execution_count": null,
   "outputs": [],
   "source": [],
   "metadata": {
    "collapsed": false,
    "pycharm": {
     "name": "#%%\n"
    }
   }
  }
 ],
 "metadata": {
  "kernelspec": {
   "display_name": "Python 3",
   "language": "python",
   "name": "python3"
  },
  "language_info": {
   "codemirror_mode": {
    "name": "ipython",
    "version": 2
   },
   "file_extension": ".py",
   "mimetype": "text/x-python",
   "name": "python",
   "nbconvert_exporter": "python",
   "pygments_lexer": "ipython2",
   "version": "2.7.6"
  }
 },
 "nbformat": 4,
 "nbformat_minor": 0
}