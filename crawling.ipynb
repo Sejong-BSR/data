{
 "cells": [
  {
   "cell_type": "code",
   "execution_count": 1,
   "outputs": [],
   "source": [
    "import selenium\n",
    "from selenium import webdriver\n",
    "from selenium.webdriver.common.by import By\n",
    "from bs4 import BeautifulSoup as bs4\n",
    "import time\n",
    "from selenium.webdriver.support.ui import WebDriverWait as wait\n",
    "from selenium.webdriver.support import expected_conditions as EC\n",
    "from selenium.webdriver.common.by import By\n",
    "from urllib.request import urlopen\n",
    "from urllib.parse import quote_plus\n",
    "import urllib.request\n",
    "import urllib\n",
    "from PIL import Image\n",
    "import ssl\n",
    "import os\n",
    "from selenium import webdriver\n",
    "from selenium.webdriver.common.by import By\n",
    "from selenium.webdriver.common.keys import Keys\n",
    "from selenium.webdriver.chrome.options import Options\n",
    "import time\n",
    "import warnings\n",
    "from selenium.webdriver.support.ui import WebDriverWait\n",
    "from selenium.common.exceptions import NoSuchElementException,StaleElementReferenceException\n",
    "from urllib import parse\n",
    "import json\n",
    "from urllib.request import urlopen\n",
    "from PIL import Image\n",
    "from selenium.webdriver.chrome.service import Service\n",
    "from webdriver_manager.chrome import ChromeDriverManager\n",
    "import tqdm"
   ],
   "metadata": {
    "collapsed": false,
    "pycharm": {
     "name": "#%%\n"
    }
   }
  },
  {
   "cell_type": "code",
   "execution_count": 2,
   "outputs": [],
   "source": [
    "def Crawling_Naver():\n",
    "    temp = []\n",
    "    for page in range(1,10):\n",
    "        url_temp = 'https://map.naver.com/v5/api/search?caller=pcweb&query=%EC%9D%8C%EC%8B%9D%EC%A0%90&type=all&searchCoord={};{}&page={}&displayCount={}&isPlaceRecommendationReplace=true&lang=ko'\n",
    "        latitude = 126.93632421051524 # 현재 위도\n",
    "        longitude = 37.55433832843096 # 현재 경도\n",
    "        displayCount = 5 # 탐색할 가게 개수\n",
    "        url = url_temp.format(latitude, longitude, page,displayCount)\n",
    "        response = urlopen(url)\n",
    "        json_data = json.load(response)['result']['place']['list']\n",
    "        temp = []\n",
    "        for place in json_data:\n",
    "            temp.append([place['id'],place['name'],place['category']])\n",
    "\n",
    "    return temp"
   ],
   "metadata": {
    "collapsed": false,
    "pycharm": {
     "name": "#%%\n"
    }
   }
  },
  {
   "cell_type": "code",
   "execution_count": 3,
   "outputs": [],
   "source": [
    "def make_url(paths):\n",
    "    url_lst = []\n",
    "    for i in range(len(paths)):\n",
    "        url = \"https://pcmap.place.naver.com/restaurant/\" + paths[i] + \"/photo\"\n",
    "        url_lst.append(url)\n",
    "    return url_lst\n",
    "\n",
    "def scroll_down(driver):\n",
    "    num_of_scroll = 2 # 스크롤 횟수 (커질수록 가져오는 이미지 양 많아짐)\n",
    "    for i in range(num_of_scroll):\n",
    "        driver.find_element(By.CSS_SELECTOR,'body').send_keys(Keys.PAGE_DOWN)\n",
    "        time.sleep(1)\n",
    "\n",
    "def load_img(driver,names,i):\n",
    "    imgs = driver.find_elements(By.CSS_SELECTOR, 'a.place_thumb>img')\n",
    "    img_url = []\n",
    "    for image in imgs :\n",
    "        url = image.get_attribute('src')\n",
    "        img_url.append(url)\n",
    "\n",
    "    img_folder = './img/' + names[i]\n",
    "    if not os.path.isdir(img_folder) : # 없으면 새로 생성하는 조건문\n",
    "        os.mkdir(img_folder)\n",
    "\n",
    "    for index, link in enumerate(img_url) :\n",
    "        urllib.request.urlretrieve(link, f'{img_folder}/{index}.jpg')\n",
    "        img = Image.open(f'{img_folder}/{index}.jpg')\n",
    "        img_resize = img.resize((256, 256))\n",
    "        img_resize.save(f'{img_folder}/{index}.jpg')\n",
    "\n",
    "def set_chrome_driver():\n",
    "    chrome_options = webdriver.ChromeOptions()\n",
    "    driver = webdriver.Chrome(service=Service(ChromeDriverManager().install()), options=chrome_options)\n",
    "    return driver"
   ],
   "metadata": {
    "collapsed": false,
    "pycharm": {
     "name": "#%%\n"
    }
   }
  },
  {
   "cell_type": "code",
   "execution_count": 7,
   "outputs": [
    {
     "name": "stderr",
     "output_type": "stream",
     "text": [
      "C:\\Users\\jaehoon\\AppData\\Local\\Temp\\ipykernel_17716\\3485248640.py:6: DeprecationWarning: executable_path has been deprecated, please pass in a Service object\n",
      "  driver = webdriver.Chrome('C:/Users/jaehoon/chromedriver') # 사용자에 맞게 chrome driver 설치 후 위치 지정해줘야함\n"
     ]
    }
   ],
   "source": [
    "header = {\"Mozilla/5.0 (Windows NT 10.0; Win64; x64) AppleWebKit/537.36 (KHTML, like Gecko) Chrome/106.0.0.0 Safari/537.36\"}\n",
    "\n",
    "def main(paths,names):\n",
    "    url_lst = make_url(paths) # all store url\n",
    "    for i in range(len(url_lst)):\n",
    "        driver = webdriver.Chrome('C:/Users/jaehoon/chromedriver') # 사용자에 맞게 chrome driver 설치 후 위치 지정해줘야함\n",
    "        #driver = set_chrome_driver()\n",
    "        driver.get(url_lst[i])\n",
    "        scroll_down(driver)\n",
    "        load_img(driver,names,i)\n",
    "\n",
    "if __name__ == \"__main__\":\n",
    "    id,names = [], []\n",
    "    info = Crawling_Naver()\n",
    "    for i in range(len(info)):\n",
    "        id.append(info[i][0])\n",
    "        names.append(info[i][1])\n",
    "    main(id,names)"
   ],
   "metadata": {
    "collapsed": false,
    "pycharm": {
     "name": "#%%\n"
    }
   }
  },
  {
   "cell_type": "code",
   "execution_count": null,
   "outputs": [],
   "source": [],
   "metadata": {
    "collapsed": false,
    "pycharm": {
     "name": "#%%\n"
    }
   }
  }
 ],
 "metadata": {
  "kernelspec": {
   "display_name": "Python 3",
   "language": "python",
   "name": "python3"
  },
  "language_info": {
   "codemirror_mode": {
    "name": "ipython",
    "version": 2
   },
   "file_extension": ".py",
   "mimetype": "text/x-python",
   "name": "python",
   "nbconvert_exporter": "python",
   "pygments_lexer": "ipython2",
   "version": "2.7.6"
  }
 },
 "nbformat": 4,
 "nbformat_minor": 0
}